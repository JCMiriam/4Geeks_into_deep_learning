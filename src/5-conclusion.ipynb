{
 "cells": [
  {
   "cell_type": "markdown",
   "metadata": {},
   "source": [
    "<h4>Conclusión de resultados de los modelos</h4>\n",
    "\n",
    "<h5>Primer modelo</h5>\n",
    "\n",
    "- Precisión (accuracy):\n",
    "    Estancada en torno al 50%, sin mejoras significativas a lo largo de las épocas.\n",
    "    Parece incapaz de superar el rendimiento de un clasificador aleatorio.\n",
    "\n",
    "- Pérdida (loss):\n",
    "    Se mantiene constante en torno a 0.693, lo que indica falta de aprendizaje.\n",
    "\n",
    "- Conclusión:\n",
    "    Este modelo no muestra ningún aprendizaje efectivo. Es probable que esté subentrenado, mal diseñado o que no haya patrones claros en los datos.\n",
    "\n",
    "\n",
    "<h5>Segundo modelo</h5>\n",
    "\n",
    "- Precisión (accuracy):\n",
    "    Mejora constantemente desde 57% en la primera época hasta 82.6% en la décima época.\n",
    "    Similarmente, la validación pasa del 68.9% al 83.8%.\n",
    "\n",
    "- Pérdida (loss):\n",
    "    Disminuye de 0.6667 a 0.3882 para el conjunto de entrenamiento.\n",
    "    La pérdida de validación también baja consistentemente, de 0.5799 a 0.3620, lo que indica que el modelo generaliza bien.\n",
    "\n",
    "- Conclusión:\n",
    "    Este modelo tiene un desempeño muy sólido, con mejoras constantes y buenas métricas de validación.\n",
    "\n",
    "\n",
    "<h5>Tercer modelo</h5>\n",
    "\n",
    "- Precisión (accuracy):\n",
    "    Comienza con 57.9% y sube a 83.5% en la décima época.\n",
    "    Sin embargo, la validación muestra un comportamiento más inconsistente, con una caída notable en la última época (de 80.05% a 66.57%).\n",
    "\n",
    "- Pérdida (loss):\n",
    "    La pérdida de entrenamiento disminuye, pero la pérdida de validación sube abruptamente en la última época (de 0.5454 a 1.4601), lo que sugiere sobreajuste.\n",
    "\n",
    "- Conclusión:\n",
    "    Aunque tiene un buen rendimiento en el conjunto de entrenamiento, el comportamiento de la validación en las últimas épocas indica que el modelo podría estar sobreajustándose."
   ]
  },
  {
   "cell_type": "markdown",
   "metadata": {},
   "source": [
    "<h4>Comparación final</h4>\n",
    "\n",
    "- El Modelo 1 es descartado por su falta de aprendizaje. Se podría haber usado EarlyStopping para no invertir 15 horas en un entrenamiento que no estaba mejorando.\n",
    "\n",
    "- El Modelo 3 muestra buenos resultados iniciales, pero parece tener problemas de sobreajuste en las últimas épocas.\n",
    "\n",
    "- El Modelo 2 es el más consistente, con mejoras constantes en precisión y pérdida tanto para entrenamiento como para validación, y sin indicios significativos de sobreajuste."
   ]
  },
  {
   "cell_type": "markdown",
   "metadata": {},
   "source": [
    "<h4>Conclusión</h4>\n",
    "\n",
    "Viendo las métricas de los resultedos el mejor parece ser el Modelo 2, ya que muestra el mejor balance entre aprendizaje y generalización."
   ]
  }
 ],
 "metadata": {
  "language_info": {
   "name": "python"
  }
 },
 "nbformat": 4,
 "nbformat_minor": 2
}
